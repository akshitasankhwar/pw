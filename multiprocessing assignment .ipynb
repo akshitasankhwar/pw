{
 "cells": [
  {
   "cell_type": "code",
   "execution_count": null,
   "id": "96d7be44-cd77-4722-8a8f-f61e31ec611f",
   "metadata": {},
   "outputs": [],
   "source": [
    "#Q1\n",
    "'Multiprocessing refers to running multiple processes simultaneously, which can be incredibly useful for speeding up your code and handling large datasets and tasks. For example, running an operation in parallel can divide a job into several smaller parts that can be processed simultaneously.'\n"
   ]
  },
  {
   "cell_type": "code",
   "execution_count": null,
   "id": "c3ac5dde-6d98-4942-bd55-1dc481b78863",
   "metadata": {},
   "outputs": [],
   "source": [
    "#Q2  |                                                                    |\n",
    "#S.NO|\t                      Multiprocessing\t                          |                                                Multithreading\n",
    "#1.\t |In Multiprocessing, CPUs are added for increasing computing power.  |\tWhile In Multithreading, many threads are created of a single process for increasing computing power.\n",
    "#2.\t |In Multiprocessing, Many processes are executed simultaneously.\t  |    While in multithreading, many threads of a process are executed simultaneously.\n",
    "#3.\t |Multiprocessing are classified into Symmetric and Asymmetric.\t      |     While Multithreading is not classified in any categories.\n",
    "#4.\t |In Multiprocessing, Process creation is a time-consuming process.   |    While in Multithreading, process creation is according to economical.\n",
    "#5.\t |In Multiprocessing, every process owned a separate address space.   |    While in Multithreading, a common address space is shared by all the threads."
   ]
  },
  {
   "cell_type": "code",
   "execution_count": 1,
   "id": "e24b9417-13a8-432e-a1fa-e27763ebae48",
   "metadata": {},
   "outputs": [
    {
     "name": "stdout",
     "output_type": "stream",
     "text": [
      "Square: 100\n",
      "Cube: 1000\n",
      "Done!\n"
     ]
    }
   ],
   "source": [
    "#Q3\n",
    "import multiprocessing\n",
    "def print_cube(num):\n",
    "    print(\"Cube: {}\".format(num * num * num))\n",
    "def print_square(num):\n",
    "    print(\"Square: {}\".format(num * num))\n",
    "if __name__ == \"__main__\":\n",
    "    p1 = multiprocessing.Process(target=print_square, args=(10, ))\n",
    "    p2 = multiprocessing.Process(target=print_cube, args=(10, ))\n",
    "    p1.start()\n",
    "    p2.start()\n",
    "    p1.join()\n",
    "    p2.join()\n",
    "    print(\"Done!\")"
   ]
  },
  {
   "cell_type": "code",
   "execution_count": null,
   "id": "c144aae1-b6c0-4f41-bb85-a6fc14730072",
   "metadata": {},
   "outputs": [],
   "source": [
    "#Q4\n",
    "'Python multiprocessing Pool can be used for parallel execution of a function across multiple input values, distributing the input data across processes (data parallelism). Below is a simple Python multiprocessing Pool example.'\n"
   ]
  },
  {
   "cell_type": "code",
   "execution_count": null,
   "id": "b75ce4aa-a749-4154-bcbc-bad9ae63e31d",
   "metadata": {},
   "outputs": [],
   "source": [
    "#Q5\n",
    "'Python Multiprocessing Pool'\n",
    "'Create the Process Pool.'\n",
    "'Submit Tasks to the Process Pool.'\n",
    "'Wait for Tasks to Complete '\n",
    "'Shutdown the Process Pool.'"
   ]
  },
  {
   "cell_type": "code",
   "execution_count": 5,
   "id": "c281d83b-b1a9-4026-b6ef-2626ac5d58fe",
   "metadata": {},
   "outputs": [
    {
     "name": "stdout",
     "output_type": "stream",
     "text": [
      "3 cube is 27\n",
      "4 cube is 64\n",
      "5 cube is 125\n",
      "6 cube is 216\n",
      "7 cube is 343\n",
      "8 cube is 512\n",
      "4 is an even number \n",
      "6 is an even number \n",
      "8 is an even number \n",
      "3 is an odd number \n",
      "5 is an odd number \n",
      "7 is an odd number \n",
      "3 sqaure is 9\n",
      "4 sqaure is 16\n",
      "5 sqaure is 25\n",
      "6 sqaure is 36\n",
      "7 sqaure is 49\n",
      "8 sqaure is 64\n",
      "Done\n"
     ]
    }
   ],
   "source": [
    "from multiprocessing import Process\n",
    "def cube(x):\n",
    "    for x in my_numbers:\n",
    "        print('%s cube is %s' % (x, x**3))\n",
    "def evenno(x):\n",
    "    for x in my_numbers:\n",
    "        if x % 2 == 0:\n",
    "            print('%s is an even number ' % (x))\n",
    "def square(x):\n",
    "    for x in my_numbers:\n",
    "        print('%s sqaure is %s' % (x, x**2))\n",
    "def oddno(x):\n",
    "    for x in my_numbers:\n",
    "        if x % 2 != 0:\n",
    "            print('%s is an odd number ' % (x))\n",
    "if __name__ == '__main__':\n",
    "    my_numbers = [3, 4, 5, 6, 7, 8]\n",
    "    my_process1 = Process(target=cube, args=('x',))\n",
    "    my_process2 = Process(target=evenno, args=('x',))\n",
    "    my_process3 = Process(target=oddno, args=('x',))\n",
    "    my_process4 = Process(target=square, args=('x',))\n",
    "    my_process1.start()\n",
    "    my_process1.join()\n",
    "    my_process2.start()\n",
    "    my_process2.join()\n",
    "    my_process3.start()\n",
    "    my_process3.join()\n",
    "    my_process4.start()\n",
    "    my_process4.join()\n",
    "print (\"Done\")"
   ]
  },
  {
   "cell_type": "code",
   "execution_count": null,
   "id": "3003fc78-394f-4394-a9af-b98e42b1e44e",
   "metadata": {},
   "outputs": [],
   "source": []
  }
 ],
 "metadata": {
  "kernelspec": {
   "display_name": "Python 3 (ipykernel)",
   "language": "python",
   "name": "python3"
  },
  "language_info": {
   "codemirror_mode": {
    "name": "ipython",
    "version": 3
   },
   "file_extension": ".py",
   "mimetype": "text/x-python",
   "name": "python",
   "nbconvert_exporter": "python",
   "pygments_lexer": "ipython3",
   "version": "3.10.8"
  }
 },
 "nbformat": 4,
 "nbformat_minor": 5
}
