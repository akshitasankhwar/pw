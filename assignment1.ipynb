{
 "cells": [
  {
   "cell_type": "code",
   "execution_count": null,
   "id": "43f21f13-abf4-40b3-a56a-5873aecddec3",
   "metadata": {},
   "outputs": [],
   "source": [
    "#Q1"
   ]
  },
  {
   "cell_type": "code",
   "execution_count": null,
   "id": "694a8ed4-b796-451e-9fdd-dd62fd05ac60",
   "metadata": {
    "tags": []
   },
   "outputs": [],
   "source": [
    "#1\n",
    "a=\"name\""
   ]
  },
  {
   "cell_type": "code",
   "execution_count": null,
   "id": "13a5651d-08d6-4296-bf0c-69b273cf276c",
   "metadata": {},
   "outputs": [],
   "source": [
    "#2\n",
    "l=[1,2,3,\"pw\",\"akshita\"]"
   ]
  },
  {
   "cell_type": "code",
   "execution_count": null,
   "id": "d7600059-99fc-4fd1-be44-cc2ddb29fdf8",
   "metadata": {},
   "outputs": [],
   "source": [
    "#3\n",
    "b=13.4"
   ]
  },
  {
   "cell_type": "code",
   "execution_count": null,
   "id": "b1596413-e04c-4e9d-80c9-8f00f0279c70",
   "metadata": {},
   "outputs": [],
   "source": [
    "#4\n",
    "t=(5,6,\"tissue\")"
   ]
  },
  {
   "cell_type": "code",
   "execution_count": null,
   "id": "47077ce8-03ab-4e70-a705-1e83da793aec",
   "metadata": {},
   "outputs": [],
   "source": [
    "#Q2"
   ]
  },
  {
   "cell_type": "code",
   "execution_count": null,
   "id": "ebc182a1-b26e-401b-a205-8902fcaaab7a",
   "metadata": {},
   "outputs": [],
   "source": [
    "#1\n",
    "string"
   ]
  },
  {
   "cell_type": "code",
   "execution_count": null,
   "id": "8692325e-2b5c-45fa-8353-653956bd2826",
   "metadata": {},
   "outputs": [],
   "source": [
    "#2\n",
    "string"
   ]
  },
  {
   "cell_type": "code",
   "execution_count": null,
   "id": "15180394-2e8f-4752-8ff0-2b09ead8e34e",
   "metadata": {},
   "outputs": [],
   "source": [
    "#3\n",
    "list"
   ]
  },
  {
   "cell_type": "code",
   "execution_count": null,
   "id": "0685306d-2a2e-4185-b3a1-1ad036e5de5a",
   "metadata": {},
   "outputs": [],
   "source": [
    "#4\n",
    "integer"
   ]
  },
  {
   "cell_type": "code",
   "execution_count": null,
   "id": "7aea3629-7edd-485f-ae5d-23d6fc6441e5",
   "metadata": {},
   "outputs": [],
   "source": [
    "#Q3"
   ]
  },
  {
   "cell_type": "code",
   "execution_count": 3,
   "id": "fe1ffb6b-ebd5-4deb-b05f-782fdaf14064",
   "metadata": {
    "tags": []
   },
   "outputs": [
    {
     "name": "stdout",
     "output_type": "stream",
     "text": [
      "1.5\n"
     ]
    }
   ],
   "source": [
    "#1\n",
    "#division\n",
    "a=6/4\n",
    "print(a)"
   ]
  },
  {
   "cell_type": "code",
   "execution_count": 4,
   "id": "734b55d3-6bcb-4431-bd57-7b629df54fd4",
   "metadata": {},
   "outputs": [
    {
     "name": "stdout",
     "output_type": "stream",
     "text": [
      "4\n"
     ]
    }
   ],
   "source": [
    "#2\n",
    "#modulus\n",
    "b=10%6\n",
    "print(b)"
   ]
  },
  {
   "cell_type": "code",
   "execution_count": 5,
   "id": "1d69d291-0f0c-4177-b4c8-42241d0034c4",
   "metadata": {},
   "outputs": [
    {
     "name": "stdout",
     "output_type": "stream",
     "text": [
      "2\n"
     ]
    }
   ],
   "source": [
    "#3\n",
    "#floor division\n",
    "c=13//6\n",
    "print(c)"
   ]
  },
  {
   "cell_type": "code",
   "execution_count": 6,
   "id": "b965d63c-e8e5-4948-a479-8889f6f37552",
   "metadata": {},
   "outputs": [
    {
     "name": "stdout",
     "output_type": "stream",
     "text": [
      "36\n"
     ]
    }
   ],
   "source": [
    "#4\n",
    "#exponentiation\n",
    "d=6**2\n",
    "print(d)"
   ]
  },
  {
   "cell_type": "code",
   "execution_count": 8,
   "id": "19a558ad-2901-46ec-ae84-05f723fe54a3",
   "metadata": {},
   "outputs": [
    {
     "name": "stdout",
     "output_type": "stream",
     "text": [
      "<class 'int'>\n",
      "<class 'float'>\n",
      "<class 'str'>\n",
      "<class 'list'>\n"
     ]
    }
   ],
   "source": [
    "#Q4\n",
    "l=[1,1.3,\"pw\",[\"fish\"]]\n",
    "i=0\n",
    "for i in l:\n",
    "    print(type(i))"
   ]
  },
  {
   "cell_type": "code",
   "execution_count": 19,
   "id": "2635962e-5751-4417-8d69-52c6fabd3c5b",
   "metadata": {},
   "outputs": [
    {
     "name": "stdout",
     "output_type": "stream",
     "text": [
      "[1, 2, 6]\n"
     ]
    }
   ],
   "source": [
    "#Q7\n",
    "#MUTABLE DATA TYPE:a mutable object can be changed after its created.\n",
    "#IMMUTABLE DATA TYPE: a immutable object cannot be changed after its created.\n",
    "#EXAMPLES:\n",
    "#MUTABLE:\n",
    "l=[1,2,3]\n",
    "i=0\n",
    "for i in l:\n",
    "    if i==2:\n",
    "        l[i]=6\n",
    "        \n",
    "print(l)    \n",
    "        "
   ]
  },
  {
   "cell_type": "code",
   "execution_count": 20,
   "id": "22a314bf-9919-47fa-b671-e989b186d77c",
   "metadata": {},
   "outputs": [
    {
     "name": "stdout",
     "output_type": "stream",
     "text": [
      "(1, 2, 3)\n"
     ]
    }
   ],
   "source": [
    "#IMMUTABLE:\n",
    "t=(1,2,3)\n",
    "i=0\n",
    "for i in t:\n",
    "    if i==1:\n",
    "        l[i]=7\n",
    "print(t)"
   ]
  },
  {
   "cell_type": "code",
   "execution_count": null,
   "id": "70728edf-1a17-488f-846d-7787b56819e2",
   "metadata": {},
   "outputs": [],
   "source": [
    "#Q5\n",
    "a=16\n",
    "b=4\n",
    "while:\n",
    "    if a%b==0:\n",
    "        print(\"a is purely divisible by b\")\n",
    "        print(a/b)\n",
    "        break"
   ]
  },
  {
   "cell_type": "code",
   "execution_count": null,
   "id": "212bcd46-3ce6-4708-af39-2f61f69d78e9",
   "metadata": {},
   "outputs": [],
   "source": [
    "#Q6\n",
    "a,b=1,26\n",
    "l=[*range(a,b)]\n",
    "print(l)\n",
    "i=0\n",
    "for i in l:\n",
    "    if i%3==0:\n",
    "        print(i,\"is divisible by 3\")\n",
    "    else:\n",
    "        print(i,\"is not divisible by 3\")"
   ]
  }
 ],
 "metadata": {
  "kernelspec": {
   "display_name": "Python 3 (ipykernel)",
   "language": "python",
   "name": "python3"
  },
  "language_info": {
   "codemirror_mode": {
    "name": "ipython",
    "version": 3
   },
   "file_extension": ".py",
   "mimetype": "text/x-python",
   "name": "python",
   "nbconvert_exporter": "python",
   "pygments_lexer": "ipython3",
   "version": "3.10.8"
  }
 },
 "nbformat": 4,
 "nbformat_minor": 5
}
