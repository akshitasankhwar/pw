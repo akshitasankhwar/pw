{
 "cells": [
  {
   "cell_type": "code",
   "execution_count": 1,
   "id": "c615471b-1240-4bf9-a7b2-06bbd35bde89",
   "metadata": {},
   "outputs": [
    {
     "name": "stdout",
     "output_type": "stream",
     "text": [
      "In-Place Sort:  None\n",
      "[('Virat Kohli', 24936), ('Jack Kallis', 25534), ('Ricky Ponting', 27483), ('Sachin Tendulkar', 34357)]\n"
     ]
    }
   ],
   "source": [
    "#Q1\n",
    "cricket=[('Sachin Tendulkar', 34357), ('Ricky Ponting', 27483), ('Jack Kallis', 25534), ('Virat Kohli', 24936)]\n",
    "print(\"In-Place Sort: \",cricket.sort(key = lambda x : x[1]))\n",
    "print(cricket)"
   ]
  },
  {
   "cell_type": "code",
   "execution_count": 7,
   "id": "c021443b-2c90-45f2-a047-3c612fe85f78",
   "metadata": {},
   "outputs": [
    {
     "name": "stdout",
     "output_type": "stream",
     "text": [
      "[1, 4, 9, 16, 25, 36, 49, 64, 81, 100]\n"
     ]
    }
   ],
   "source": [
    "#Q2\n",
    "lis=[1, 2, 3, 4, 5, 6, 7, 8, 9, 10]\n",
    "squa=list(map(lambda x:x**2,lis))\n",
    "print(squa)\n"
   ]
  },
  {
   "cell_type": "code",
   "execution_count": 9,
   "id": "2398ecf2-a941-4c2f-9102-8f87883a969b",
   "metadata": {},
   "outputs": [
    {
     "name": "stdout",
     "output_type": "stream",
     "text": [
      "('1', '2', '3', '4', '5', '6', '7', '8', '9', '10')\n"
     ]
    }
   ],
   "source": [
    "#Q3\n",
    "lis=[1, 2, 3, 4, 5, 6, 7, 8, 9, 10]\n",
    "t=tuple(map(lambda x:str(x),lis))\n",
    "print(t)"
   ]
  },
  {
   "cell_type": "code",
   "execution_count": 12,
   "id": "bb02f320-6fee-4245-b2c3-68ded4070522",
   "metadata": {},
   "outputs": [
    {
     "name": "stdout",
     "output_type": "stream",
     "text": [
      "The sum of the list elements is : 15511210043330985984000000\n"
     ]
    }
   ],
   "source": [
    "#Q4\n",
    "import functools\n",
    "lis = [1,2,3,4,5,6,7,8,9,10,11,12,13,14,15,16,17,18,19,20,21,22,23,24,25]\n",
    "print(\"The sum of the list elements is : \", end=\"\")\n",
    "print(functools.reduce(lambda a, b: a*b, lis))"
   ]
  },
  {
   "cell_type": "code",
   "execution_count": 14,
   "id": "e424499a-e110-47d6-97ba-126acc878848",
   "metadata": {},
   "outputs": [
    {
     "name": "stdout",
     "output_type": "stream",
     "text": [
      "Numbers that are divisible by 2 and 3 are: [6, 60, 90, 120]\n"
     ]
    }
   ],
   "source": [
    "#Q5\n",
    "list_1 = [2, 3, 6, 9, 27, 60, 90, 120, 55, 46]\n",
    "result = list (filter (lambda x: (x % 2 == 0 and x%3==0), list_1))\n",
    "print ('Numbers that are divisible by 2 and 3 are:', result)"
   ]
  },
  {
   "cell_type": "code",
   "execution_count": 18,
   "id": "c6ba5865-cfff-453f-8d07-228069d0f564",
   "metadata": {},
   "outputs": [
    {
     "name": "stdout",
     "output_type": "stream",
     "text": [
      "List of palindromes: ['php', 'aba', 'radar', 'level']\n"
     ]
    }
   ],
   "source": [
    "#Q6\n",
    "list_1 = ['python', 'php', 'aba', 'radar', 'level']\n",
    "result = list (filter (lambda x:(x == \"\".join(reversed(x))),  list_1))\n",
    "print ('List of palindromes:', result)"
   ]
  },
  {
   "cell_type": "code",
   "execution_count": null,
   "id": "60723b6d-ea72-47c2-8ae1-37285f4a3004",
   "metadata": {},
   "outputs": [],
   "source": []
  }
 ],
 "metadata": {
  "kernelspec": {
   "display_name": "Python 3 (ipykernel)",
   "language": "python",
   "name": "python3"
  },
  "language_info": {
   "codemirror_mode": {
    "name": "ipython",
    "version": 3
   },
   "file_extension": ".py",
   "mimetype": "text/x-python",
   "name": "python",
   "nbconvert_exporter": "python",
   "pygments_lexer": "ipython3",
   "version": "3.10.8"
  }
 },
 "nbformat": 4,
 "nbformat_minor": 5
}
