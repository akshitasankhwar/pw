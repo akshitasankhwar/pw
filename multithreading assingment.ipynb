{
 "cells": [
  {
   "cell_type": "code",
   "execution_count": null,
   "id": "e21cf55b-330a-4646-9bf0-a955c1a68f5b",
   "metadata": {},
   "outputs": [],
   "source": [
    "#Q1\n",
    "'Multithreading is the ability of a program or an operating system to enable more than one user at a time without requiring multiple copies of the program running on the computer.'\n",
    "'Multithreading in Python is a popular technique that enables multiple tasks to be executed simultaneously. In simple words, the ability of a processor to execute multiple threads simultaneously is known as multithreading.'\n",
    "'Python multithreading facilitates sharing data space and resources of multiple threads with the main thread. It allows efficient and easy communication between the threads.'\n",
    "'the two modules for multithreading are:'\n",
    "#thread module\n",
    "#threading module"
   ]
  },
  {
   "cell_type": "code",
   "execution_count": null,
   "id": "85e8d9d5-1c33-4302-891e-b03dc8b09bec",
   "metadata": {},
   "outputs": [],
   "source": [
    "#Q2\n",
    "\"threading.activeCount() − Returns the number of thread objects that are active.\n",
    "\"threading.currentThread() − Returns the number of thread objects in the caller's thread control.\"\n",
    "\"threading.enumerate() − Returns a list of all thread objects that are currently active.\""
   ]
  },
  {
   "cell_type": "code",
   "execution_count": null,
   "id": "125b191e-79b8-406b-aaee-e82f1382e017",
   "metadata": {},
   "outputs": [],
   "source": [
    "#Q3\n",
    "\"run()  − The run() method is the entry point for a thread.\"\n",
    "\"start()  − The start() method starts a thread by calling the run method.\"\n",
    "\"join([time])  − The join() waits for threads to terminate.\"\n",
    "\"isAlive()  − The isAlive() method checks whether a thread is still executing.\""
   ]
  },
  {
   "cell_type": "code",
   "execution_count": 26,
   "id": "b43b7a6a-c612-46e5-b343-64774dcd6cfc",
   "metadata": {},
   "outputs": [
    {
     "name": "stdout",
     "output_type": "stream",
     "text": [
      "square:1\n",
      "square:4\n",
      "square:9\n",
      "square:16\n",
      "square:25\n",
      "cube:216\n",
      "cube:343\n",
      "cube:512\n",
      "cube:729\n"
     ]
    }
   ],
   "source": [
    "#Q4\n",
    "import threading\n",
    "def squarer(n):\n",
    "    print(\"square:{}\".format(n*n))\n",
    "def cuber(n):\n",
    "    print(\"cube:{}\".format(n*n*n))\n",
    "list1=[1,2,3,4,5]\n",
    "list2=[6,7,8,9]\n",
    "t1=[threading.Thread(target=squarer, args=(list1[i],)) for i in range(len(list1))]\n",
    "t2=[threading.Thread(target=cuber, args=(list2[i],)) for i in range(len(list2))]\n",
    "for t in t1:\n",
    "    t.start()\n",
    "    t.join()\n",
    "for k in t2:\n",
    "    k.start()\n",
    "    k.join()\n",
    "\n",
    "    "
   ]
  },
  {
   "cell_type": "code",
   "execution_count": null,
   "id": "8b65d810-5a48-4fab-9986-8d39ee07cc8b",
   "metadata": {},
   "outputs": [],
   "source": [
    "#Q4\n",
    "'Following are some of the common advantages of multithreading:\n",
    "#Enhanced performance by decreased development time\n",
    "#Simplified and streamlined program coding\n",
    "#Improvised GUI responsiveness\n",
    "#Simultaneous and parallelized occurrence of tasks\n",
    "#Better use of cache storage by utilization of resources\n",
    "#Decreased cost of maintenance\n",
    "#Better use of CPU resource'\n",
    "\"disadvantages\"\n",
    "#Complex debugging and testing processes\n",
    "#Overhead switching of context\n",
    "#Increased potential for deadlock occurrence\n",
    "#Increased difficulty level in writing a program\n",
    "#Unpredictable results"
   ]
  },
  {
   "cell_type": "code",
   "execution_count": null,
   "id": "abd38ad8-e45d-4bd4-ba67-1e1232f90199",
   "metadata": {},
   "outputs": [],
   "source": [
    "\"A race condition occurs when two threads access a shared variable at the same time. The first thread reads the variable, and the second thread reads the same value from the variable. Then the first thread and second thread perform their operations on the value, and they race to see which thread can write the value last to the shared variable. The value of the thread that writes its value last is preserved, because the thread is writing over the value that the previous thread wrote.\"\n",
    "\"A deadlock occurs when two threads each lock a different variable at the same time and then try to lock the variable that the other thread already locked. As a result, each thread stops executing and waits for the other thread to release the variable. Because each thread is holding the variable that the other thread wants, nothing occurs, and the threads remain deadlocked.\""
   ]
  }
 ],
 "metadata": {
  "kernelspec": {
   "display_name": "Python 3 (ipykernel)",
   "language": "python",
   "name": "python3"
  },
  "language_info": {
   "codemirror_mode": {
    "name": "ipython",
    "version": 3
   },
   "file_extension": ".py",
   "mimetype": "text/x-python",
   "name": "python",
   "nbconvert_exporter": "python",
   "pygments_lexer": "ipython3",
   "version": "3.10.8"
  }
 },
 "nbformat": 4,
 "nbformat_minor": 5
}
