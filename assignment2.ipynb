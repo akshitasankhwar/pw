{
 "cells": [
  {
   "cell_type": "code",
   "execution_count": null,
   "id": "8df3130e-2888-4a40-b40d-90fa71b6b610",
   "metadata": {},
   "outputs": [],
   "source": [
    "#Q1\n",
    "'''there are two types of comment\n",
    "    1)single line comment \n",
    "    2)double line comment'''\n",
    "-->#example for single line \n",
    "-->'''example for\n",
    "    multiline comment'''"
   ]
  },
  {
   "cell_type": "code",
   "execution_count": 1,
   "id": "62c2101d-34ee-4986-8706-261dc76f99e1",
   "metadata": {},
   "outputs": [
    {
     "name": "stdout",
     "output_type": "stream",
     "text": [
      "3\n",
      "akshita\n"
     ]
    }
   ],
   "source": [
    "#Q2\n",
    "''' variables in python are that store data values'''\n",
    "#assigning value\n",
    "x=3\n",
    "y=\"akshita\"\n",
    "print(x)\n",
    "print(y)"
   ]
  },
  {
   "cell_type": "code",
   "execution_count": 3,
   "id": "f1dd99e4-dcda-4783-b33f-8cbbe2c5340a",
   "metadata": {},
   "outputs": [
    {
     "name": "stdout",
     "output_type": "stream",
     "text": [
      "7.0\n",
      "7\n"
     ]
    }
   ],
   "source": [
    "#Q3\n",
    "'''we convert by using several built in function'''\n",
    "x=7\n",
    "y=float(x)\n",
    "z=str(x)\n",
    "print(y)\n",
    "print(z)"
   ]
  },
  {
   "cell_type": "code",
   "execution_count": 7,
   "id": "814216ed-b8d6-4590-a7d2-8d261f1fc643",
   "metadata": {},
   "outputs": [
    {
     "data": {
      "text/plain": [
       "[2, 3]"
      ]
     },
     "execution_count": 7,
     "metadata": {},
     "output_type": "execute_result"
    }
   ],
   "source": [
    "#Q5\n",
    "my_list=[1,2,3,4,5]\n",
    "my_list[1:3]"
   ]
  },
  {
   "cell_type": "code",
   "execution_count": 9,
   "id": "32d74a7e-b3ce-4778-bbf1-f3eca18fc4ae",
   "metadata": {},
   "outputs": [
    {
     "name": "stdout",
     "output_type": "stream",
     "text": [
      "<class 'complex'>\n",
      "8.0\n",
      "6.0\n"
     ]
    }
   ],
   "source": [
    "#Q6\n",
    "'''comlpex number are expressed in the form of a+ib where i is an imaginary number '''\n",
    "a=8+6j\n",
    "print(type(a))\n",
    "print(a.real)\n",
    "print(a.imag)"
   ]
  },
  {
   "cell_type": "code",
   "execution_count": null,
   "id": "5b53b4b1-cc26-459d-a794-c09dd8cc1be9",
   "metadata": {},
   "outputs": [],
   "source": [
    "#Q7\n",
    "age=25"
   ]
  },
  {
   "cell_type": "code",
   "execution_count": 10,
   "id": "3fa050d3-99c5-4047-8533-4a98e4b18fe1",
   "metadata": {},
   "outputs": [
    {
     "name": "stdout",
     "output_type": "stream",
     "text": [
      "<class 'float'>\n"
     ]
    }
   ],
   "source": [
    "#Q8\n",
    "price=9.99\n",
    "print(type(price))"
   ]
  },
  {
   "cell_type": "code",
   "execution_count": 11,
   "id": "c55414a4-f32d-4a45-8144-6d5264261488",
   "metadata": {},
   "outputs": [
    {
     "name": "stdout",
     "output_type": "stream",
     "text": [
      "akshita\n",
      "<class 'str'>\n"
     ]
    }
   ],
   "source": [
    "#Q9\n",
    "name=\"akshita\"\n",
    "print(name)\n",
    "print(type(name))"
   ]
  },
  {
   "cell_type": "code",
   "execution_count": 12,
   "id": "7d1fd38a-6595-426b-91f2-78283999c075",
   "metadata": {},
   "outputs": [
    {
     "data": {
      "text/plain": [
       "'world'"
      ]
     },
     "execution_count": 12,
     "metadata": {},
     "output_type": "execute_result"
    }
   ],
   "source": [
    "#Q10\n",
    "a=\"hello,world!\"\n",
    "a[6:11]"
   ]
  },
  {
   "cell_type": "code",
   "execution_count": 17,
   "id": "3d3d8d4b-71e7-4d3a-ac7c-07b57070e280",
   "metadata": {},
   "outputs": [
    {
     "ename": "NameError",
     "evalue": "name 'true' is not defined",
     "output_type": "error",
     "traceback": [
      "\u001b[0;31m---------------------------------------------------------------------------\u001b[0m",
      "\u001b[0;31mNameError\u001b[0m                                 Traceback (most recent call last)",
      "Cell \u001b[0;32mIn[17], line 2\u001b[0m\n\u001b[1;32m      1\u001b[0m \u001b[38;5;66;03m#Q11\u001b[39;00m\n\u001b[0;32m----> 2\u001b[0m is_student\u001b[38;5;241m=\u001b[39m\u001b[43mtrue\u001b[49m\n\u001b[1;32m      3\u001b[0m \u001b[38;5;28mbool\u001b[39m(is_student)\n\u001b[1;32m      4\u001b[0m \u001b[38;5;28mprint\u001b[39m(\u001b[38;5;28mtype\u001b[39m(is_student))\n",
      "\u001b[0;31mNameError\u001b[0m: name 'true' is not defined"
     ]
    }
   ],
   "source": [
    "#Q11\n",
    "is_student=true\n",
    "bool(is_student)\n",
    "print(type(is_student))"
   ]
  },
  {
   "cell_type": "code",
   "execution_count": null,
   "id": "77d491bd-6a05-45a9-ad61-9f9549992cde",
   "metadata": {},
   "outputs": [],
   "source": []
  }
 ],
 "metadata": {
  "kernelspec": {
   "display_name": "Python 3 (ipykernel)",
   "language": "python",
   "name": "python3"
  },
  "language_info": {
   "codemirror_mode": {
    "name": "ipython",
    "version": 3
   },
   "file_extension": ".py",
   "mimetype": "text/x-python",
   "name": "python",
   "nbconvert_exporter": "python",
   "pygments_lexer": "ipython3",
   "version": "3.10.8"
  }
 },
 "nbformat": 4,
 "nbformat_minor": 5
}
