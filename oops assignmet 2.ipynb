{
 "cells": [
  {
   "cell_type": "code",
   "execution_count": 1,
   "id": "0fd35420-6265-4d8e-9767-7a3263f1451d",
   "metadata": {},
   "outputs": [
    {
     "name": "stdout",
     "output_type": "stream",
     "text": [
      "I have 3 sides\n",
      "I have 4 sides\n",
      "I have 5 sides\n",
      "I have 6 sides\n"
     ]
    }
   ],
   "source": [
    "#Q1\n",
    "\"Abstraction is used to hide the internal functionality of the function from the users.\"\n",
    "\"The users only interact with the basic implementation of the function, but inner working is\" \n",
    "\"hidden.\"\n",
    "from abc import ABC, abstractmethod\n",
    "class Polygon(ABC):\n",
    "    @abstractmethod\n",
    "    def noofsides(self):\n",
    "        pass\n",
    "class Triangle(Polygon):\n",
    "    def noofsides(self):\n",
    "        print(\"I have 3 sides\")\n",
    "class Pentagon(Polygon):\n",
    "    def noofsides(self):\n",
    "        print(\"I have 5 sides\")\n",
    "class Hexagon(Polygon):\n",
    "    def noofsides(self):\n",
    "        print(\"I have 6 sides\")\n",
    "class Quadrilateral(Polygon):\n",
    "    def noofsides(self):\n",
    "        print(\"I have 4 sides\")\n",
    "R = Triangle()\n",
    "R.noofsides()\n",
    "K = Quadrilateral()\n",
    "K.noofsides()\n",
    "R = Pentagon()\n",
    "R.noofsides()\n",
    "K = Hexagon()\n",
    "K.noofsides()"
   ]
  },
  {
   "cell_type": "code",
   "execution_count": 8,
   "id": "06a3ee6d-568d-4329-883d-c9c6607d80f2",
   "metadata": {},
   "outputs": [
    {
     "name": "stdout",
     "output_type": "stream",
     "text": [
      "We will call the protected member of base class:  78\n",
      "we will call the modified protected member outside the class:  433\n",
      "Access the protected member of obj_1:  433\n",
      "Access the protected member of obj_2:  78\n"
     ]
    },
    {
     "data": {
      "text/plain": [
       "<bound method Child2.abs_fn of <__main__.Child2 object at 0x7f32940ba410>>"
      ]
     },
     "execution_count": 8,
     "metadata": {},
     "output_type": "execute_result"
    }
   ],
   "source": [
    "#Q2\n",
    "\"Abstraction is a process of hiding unnecessary data and showing only relevant data.\"\n",
    "\"Out of an ocean of data, we are only maintaining the transparency of some data to the user.\"\n",
    "'Encapsulation is binding the data members with member variables.'\n",
    "'This will avoid the direct access of variables, because direct access of variables may'\n",
    "'violate privacy, and hiding of the implementation will not be possible.'\n",
    "#example:\n",
    "#encapsulation:\n",
    "class Base1:  \n",
    "    def __init__(self):  \n",
    "        self._p = 78  \n",
    "class Derived1(Base1):  \n",
    "    def __init__(self):  \n",
    "        Base1.__init__(self)  \n",
    "        print (\"We will call the protected member of base class: \",  \n",
    "            self._p)  \n",
    "        self._p = 433  \n",
    "        print (\"we will call the modified protected member outside the class: \",  \n",
    "            self._p)    \n",
    "obj_1 = Derived1()  \n",
    "obj_2 = Base1()  \n",
    "print (\"Access the protected member of obj_1: \", obj_1._p)  \n",
    "print (\"Access the protected member of obj_2: \", obj_2._p)\n",
    "#abstraction\n",
    "from abc import ABC, abstractmethod\n",
    "class Parent(ABC):\n",
    "  def common_fn(self):\n",
    "    print('In the common method of Parent')\n",
    "  @abstractmethod\n",
    "  def abs_fn(self): \n",
    "    pass\n",
    "class Child1(Parent):\n",
    "  def abs_fn(self):\n",
    "    print('In the abstract method of Child1')\n",
    "class Child2(Parent):\n",
    "  def abs_fn(self):\n",
    "    print('In the abstract method of Child2')\n",
    "c=Child1()\n",
    "c.abs_fn\n",
    "d=Child2()\n",
    "d.abs_fn"
   ]
  },
  {
   "cell_type": "code",
   "execution_count": null,
   "id": "39e5e48d-5f86-4742-b5a6-5f4545bc3e7d",
   "metadata": {},
   "outputs": [],
   "source": [
    "#Q3\n",
    "\"The 'abc' module in Python library provides the infrastructure for defining custom abstract\"\n",
    "\"base classes. 'abc' works by marking methods of the base class as abstract This is done by\"\n",
    "\"@absttractmethod decorator.\""
   ]
  },
  {
   "cell_type": "code",
   "execution_count": null,
   "id": "d811612b-2cdd-407d-9b7b-46466d19c887",
   "metadata": {},
   "outputs": [],
   "source": [
    "#Q4\n",
    "\"In Python, abstraction can be achieved by using abstract classes and interfaces.\"\n",
    "\"A class that consists of one or more abstract method is called the abstract class.\"\n",
    "\"Abstract methods do not contain their implementation.\""
   ]
  },
  {
   "cell_type": "code",
   "execution_count": null,
   "id": "87b8fb0e-b802-483c-8d9e-79f68bbcced8",
   "metadata": {},
   "outputs": [],
   "source": [
    "#Q5\n",
    "\"Abstract classes are not complete, as they may have some methods that are not defined.\n",
    "\"So we cannot create an instance or object of an abstract class in Python. If we try to \n",
    "instantiate the abstract class, it raises an error.\""
   ]
  }
 ],
 "metadata": {
  "kernelspec": {
   "display_name": "Python 3 (ipykernel)",
   "language": "python",
   "name": "python3"
  },
  "language_info": {
   "codemirror_mode": {
    "name": "ipython",
    "version": 3
   },
   "file_extension": ".py",
   "mimetype": "text/x-python",
   "name": "python",
   "nbconvert_exporter": "python",
   "pygments_lexer": "ipython3",
   "version": "3.10.8"
  }
 },
 "nbformat": 4,
 "nbformat_minor": 5
}
