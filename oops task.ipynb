{
 "cells": [
  {
   "cell_type": "code",
   "execution_count": 7,
   "id": "82cfa73f-4a8f-4d97-9dbb-89b91e1e5736",
   "metadata": {},
   "outputs": [
    {
     "name": "stdout",
     "output_type": "stream",
     "text": [
      "60\n",
      "200\n",
      "waganor\n"
     ]
    }
   ],
   "source": [
    "#Q1\n",
    "class vehicle():\n",
    "    def __init__(self, name_of_vehicle, max_speed ,average_of_vehicle):\n",
    "        self.name_of_vehicle=name_of_vehicle\n",
    "        self.max_speed=max_speed\n",
    "        self.average_of_vehicle=average_of_vehicle \n",
    "c=vehicle('waganor',200,60)\n",
    "print(c.average_of_vehicle)\n",
    "print(c.max_speed)\n",
    "print(c.name_of_vehicle)"
   ]
  },
  {
   "cell_type": "code",
   "execution_count": 13,
   "id": "90447d97-43ad-415e-876b-0a3aa0da788f",
   "metadata": {},
   "outputs": [
    {
     "data": {
      "text/plain": [
       "('swift', 5)"
      ]
     },
     "execution_count": 13,
     "metadata": {},
     "output_type": "execute_result"
    }
   ],
   "source": [
    "#Q2\n",
    "class car(vehicle):\n",
    "    def seating_capacity(self, capacity):\n",
    "        self.capacity=capacity\n",
    "        return self.name_of_vehicle , self.capacity\n",
    "obj=car('swift',200, 60)\n",
    "obj.seating_capacity(5)"
   ]
  },
  {
   "cell_type": "code",
   "execution_count": 14,
   "id": "0335be65-2f5e-4d58-bfc9-7fa73d3ade66",
   "metadata": {},
   "outputs": [
    {
     "name": "stdout",
     "output_type": "stream",
     "text": [
      "In Class2\n"
     ]
    }
   ],
   "source": [
    "#Q3\n",
    "\"inheritance is the mechanism to achieve the re-usability\"\n",
    "\"of code as one class(child class) can derive the properties of another class(parent class)\"\n",
    "class Class1:\n",
    "    def m(self):\n",
    "        print(\"In Class1\")\n",
    "       \n",
    "class Class2(Class1):\n",
    "    def m(self):\n",
    "        print(\"In Class2\")\n",
    " \n",
    "class Class3(Class1):\n",
    "    def m(self):\n",
    "        print(\"In Class3\") \n",
    "        \n",
    "class Class4(Class2, Class3):\n",
    "    pass  \n",
    "     \n",
    "obj = Class4()\n",
    "obj.m()"
   ]
  },
  {
   "cell_type": "code",
   "execution_count": 17,
   "id": "0daebef1-f4d1-4d91-8aa1-910ff74fdcac",
   "metadata": {},
   "outputs": [
    {
     "name": "stdout",
     "output_type": "stream",
     "text": [
      "21\n",
      "21\n"
     ]
    }
   ],
   "source": [
    "#Q4\n",
    "\"In Python, getters and setters are not the same as those in other object-oriented programming languages\"\n",
    "\"Basically, the main purpose of using getters and setters in object-oriented programs is to \"\n",
    "\"ensure data encapsulation\"\n",
    "class student():\n",
    "    def __init__(self, age):\n",
    "         self._age = age\n",
    "    def get_age(self):\n",
    "        return self._age\n",
    "    def set_age(self, x):\n",
    "        self._age = x\n",
    "raj = student(21)\n",
    "raj.set_age(21)\n",
    "print(raj.get_age())\n",
    "print(raj._age)"
   ]
  },
  {
   "cell_type": "code",
   "execution_count": 18,
   "id": "9c04345d-aae8-46d6-a059-ec3f5cc63d0b",
   "metadata": {},
   "outputs": [
    {
     "name": "stdout",
     "output_type": "stream",
     "text": [
      "Inside Parent\n",
      "Inside Child\n"
     ]
    }
   ],
   "source": [
    "#Q5\n",
    "\"Method overriding is an ability of any object-oriented programming language that allows a subclass or\" \n",
    "\"child class to provide a specific implementation of a method that is already provided by one of its\"\n",
    "\"super-classes or parent classes.\"\n",
    "class Parent():\n",
    "    def __init__(self):\n",
    "        self.value = \"Inside Parent\"\n",
    "    def show(self):\n",
    "        print(self.value)\n",
    "class Child(Parent):\n",
    "    def __init__(self):\n",
    "        self.value = \"Inside Child\"\n",
    "    def show(self):\n",
    "        print(self.value)                   \n",
    "obj1 = Parent()\n",
    "obj2 = Child()\n",
    "  \n",
    "obj1.show()\n",
    "obj2.show()"
   ]
  },
  {
   "cell_type": "code",
   "execution_count": null,
   "id": "54426bcb-3188-448d-869d-82587ea31228",
   "metadata": {},
   "outputs": [],
   "source": []
  }
 ],
 "metadata": {
  "kernelspec": {
   "display_name": "Python 3 (ipykernel)",
   "language": "python",
   "name": "python3"
  },
  "language_info": {
   "codemirror_mode": {
    "name": "ipython",
    "version": 3
   },
   "file_extension": ".py",
   "mimetype": "text/x-python",
   "name": "python",
   "nbconvert_exporter": "python",
   "pygments_lexer": "ipython3",
   "version": "3.10.8"
  }
 },
 "nbformat": 4,
 "nbformat_minor": 5
}
