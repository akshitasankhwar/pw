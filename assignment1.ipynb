{
 "cells": [
  {
   "cell_type": "code",
   "execution_count": null,
   "id": "beab2c39-e977-4a24-99ba-cde163a549b8",
   "metadata": {},
   "outputs": [],
   "source": [
    "#Q1"
   ]
  },
  {
   "cell_type": "code",
   "execution_count": null,
   "id": "76f9d0b3-a57d-493e-b49e-dc03737850b3",
   "metadata": {
    "tags": []
   },
   "outputs": [],
   "source": [
    "#1\n",
    "a=\"name\""
   ]
  },
  {
   "cell_type": "code",
   "execution_count": null,
   "id": "b05d7e59-ce54-4600-b60c-6090864efc98",
   "metadata": {},
   "outputs": [],
   "source": [
    "#2\n",
    "l=[1,2,3,\"pw\",\"akshita\"]"
   ]
  },
  {
   "cell_type": "code",
   "execution_count": null,
   "id": "2b841afb-797a-4cd2-9fba-c9b563c0c3f3",
   "metadata": {},
   "outputs": [],
   "source": [
    "#3\n",
    "b=13.4"
   ]
  },
  {
   "cell_type": "code",
   "execution_count": null,
   "id": "f11f9e46-7e31-46a6-8449-50e03e767075",
   "metadata": {},
   "outputs": [],
   "source": [
    "#4\n",
    "t=(5,6,\"tissue\")"
   ]
  },
  {
   "cell_type": "code",
   "execution_count": null,
   "id": "e316f7f2-51c0-43ae-add2-104fa1093b41",
   "metadata": {},
   "outputs": [],
   "source": [
    "#Q2"
   ]
  },
  {
   "cell_type": "code",
   "execution_count": null,
   "id": "d35b1ca8-9320-4b66-a707-f255ed56d622",
   "metadata": {},
   "outputs": [],
   "source": [
    "#1\n",
    "string"
   ]
  },
  {
   "cell_type": "code",
   "execution_count": null,
   "id": "9285d551-bea9-4284-b9b9-ac29a6fb5aaa",
   "metadata": {},
   "outputs": [],
   "source": [
    "#2\n",
    "string"
   ]
  },
  {
   "cell_type": "code",
   "execution_count": null,
   "id": "01cd8058-6950-4cb2-ae73-b8624770cb17",
   "metadata": {},
   "outputs": [],
   "source": [
    "#3\n",
    "list"
   ]
  },
  {
   "cell_type": "code",
   "execution_count": null,
   "id": "5e9d44c4-f09f-4e63-b9f5-2f1e7f7f5b4e",
   "metadata": {},
   "outputs": [],
   "source": [
    "#4\n",
    "integer"
   ]
  },
  {
   "cell_type": "code",
   "execution_count": null,
   "id": "4ef62513-dbad-4d87-90da-33f5f3348ba0",
   "metadata": {},
   "outputs": [],
   "source": [
    "#Q3"
   ]
  },
  {
   "cell_type": "code",
   "execution_count": 3,
   "id": "1a5b32b7-7c60-46f2-9cfa-63ec136eeb95",
   "metadata": {
    "tags": []
   },
   "outputs": [
    {
     "name": "stdout",
     "output_type": "stream",
     "text": [
      "1.5\n"
     ]
    }
   ],
   "source": [
    "#1\n",
    "#division\n",
    "a=6/4\n",
    "print(a)"
   ]
  },
  {
   "cell_type": "code",
   "execution_count": 4,
   "id": "0513df72-7cd9-43d5-bc0c-71a677204ae1",
   "metadata": {},
   "outputs": [
    {
     "name": "stdout",
     "output_type": "stream",
     "text": [
      "4\n"
     ]
    }
   ],
   "source": [
    "#2\n",
    "#modulus\n",
    "b=10%6\n",
    "print(b)"
   ]
  },
  {
   "cell_type": "code",
   "execution_count": 5,
   "id": "609bd748-9aa6-4502-b623-624833eac021",
   "metadata": {},
   "outputs": [
    {
     "name": "stdout",
     "output_type": "stream",
     "text": [
      "2\n"
     ]
    }
   ],
   "source": [
    "#3\n",
    "#floor division\n",
    "c=13//6\n",
    "print(c)"
   ]
  },
  {
   "cell_type": "code",
   "execution_count": 6,
   "id": "fb71a5dd-9e07-4d06-9989-b625343813b7",
   "metadata": {},
   "outputs": [
    {
     "name": "stdout",
     "output_type": "stream",
     "text": [
      "36\n"
     ]
    }
   ],
   "source": [
    "#4\n",
    "#exponentiation\n",
    "d=6**2\n",
    "print(d)"
   ]
  },
  {
   "cell_type": "code",
   "execution_count": 8,
   "id": "97ad76a7-6bb3-4c98-8506-18b2e4a9cfb6",
   "metadata": {},
   "outputs": [
    {
     "name": "stdout",
     "output_type": "stream",
     "text": [
      "<class 'int'>\n",
      "<class 'float'>\n",
      "<class 'str'>\n",
      "<class 'list'>\n"
     ]
    }
   ],
   "source": [
    "#Q4\n",
    "l=[1,1.3,\"pw\",[\"fish\"]]\n",
    "i=0\n",
    "for i in l:\n",
    "    print(type(i))"
   ]
  },
  {
   "cell_type": "code",
   "execution_count": 3,
   "id": "764af909-b1f6-4ff3-b7ba-ff90de56def5",
   "metadata": {},
   "outputs": [
    {
     "name": "stdout",
     "output_type": "stream",
     "text": [
      "[1, 2, 3, 4, 5, 6, 7, 8, 9, 10, 11, 12, 13, 14, 15, 16, 17, 18, 19, 20, 21, 22, 23, 24, 25]\n",
      "1 is not divisible by 3\n",
      "2 is not divisible by 3\n",
      "3 is divisible by 3\n",
      "4 is not divisible by 3\n",
      "5 is not divisible by 3\n",
      "6 is divisible by 3\n",
      "7 is not divisible by 3\n",
      "8 is not divisible by 3\n",
      "9 is divisible by 3\n",
      "10 is not divisible by 3\n",
      "11 is not divisible by 3\n",
      "12 is divisible by 3\n",
      "13 is not divisible by 3\n",
      "14 is not divisible by 3\n",
      "15 is divisible by 3\n",
      "16 is not divisible by 3\n",
      "17 is not divisible by 3\n",
      "18 is divisible by 3\n",
      "19 is not divisible by 3\n",
      "20 is not divisible by 3\n",
      "21 is divisible by 3\n",
      "22 is not divisible by 3\n",
      "23 is not divisible by 3\n",
      "24 is divisible by 3\n",
      "25 is not divisible by 3\n"
     ]
    }
   ],
   "source": [
    "#Q6\n",
    "a,b=1,26\n",
    "l=[*range(a,b)]\n",
    "print(l)\n",
    "i=0\n",
    "for i in l:\n",
    "    if i%3==0:\n",
    "        print(i,\"is divisible by 3\")\n",
    "    else:\n",
    "        print(i,\"is not divisible by 3\")"
   ]
  },
  {
   "cell_type": "code",
   "execution_count": 19,
   "id": "eba46457-5a2a-497e-9dd9-10b08207038a",
   "metadata": {},
   "outputs": [
    {
     "name": "stdout",
     "output_type": "stream",
     "text": [
      "[1, 2, 6]\n"
     ]
    }
   ],
   "source": [
    "#Q7\n",
    "#MUTABLE DATA TYPE:a mutable object can be changed after its created.\n",
    "#IMMUTABLE DATA TYPE: a immutable object cannot be changed after its created.\n",
    "#EXAMPLES:\n",
    "#MUTABLE:\n",
    "l=[1,2,3]\n",
    "i=0\n",
    "for i in l:\n",
    "    if i==2:\n",
    "        l[i]=6\n",
    "        \n",
    "print(l)    \n",
    "        "
   ]
  },
  {
   "cell_type": "code",
   "execution_count": 20,
   "id": "a28ec1dc-5d5d-4550-8940-9b4887a4b9db",
   "metadata": {},
   "outputs": [
    {
     "name": "stdout",
     "output_type": "stream",
     "text": [
      "(1, 2, 3)\n"
     ]
    }
   ],
   "source": [
    "#IMMUTABLE:\n",
    "t=(1,2,3)\n",
    "i=0\n",
    "for i in t:\n",
    "    if i==1:\n",
    "        l[i]=7\n",
    "print(t)"
   ]
  },
  {
   "cell_type": "code",
   "execution_count": null,
   "id": "a679a1a1-fcb3-4981-ac79-a905422c5d24",
   "metadata": {},
   "outputs": [],
   "source": []
  }
 ],
 "metadata": {
  "kernelspec": {
   "display_name": "Python 3 (ipykernel)",
   "language": "python",
   "name": "python3"
  },
  "language_info": {
   "codemirror_mode": {
    "name": "ipython",
    "version": 3
   },
   "file_extension": ".py",
   "mimetype": "text/x-python",
   "name": "python",
   "nbconvert_exporter": "python",
   "pygments_lexer": "ipython3",
   "version": "3.10.8"
  }
 },
 "nbformat": 4,
 "nbformat_minor": 5
}
