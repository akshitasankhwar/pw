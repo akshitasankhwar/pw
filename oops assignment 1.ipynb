{
 "cells": [
  {
   "cell_type": "code",
   "execution_count": null,
   "id": "55873aad-e44b-4e78-87ea-00c2424baf7b",
   "metadata": {},
   "outputs": [],
   "source": [
    "#Q1\n",
    "#class\n",
    "\"The class creates a user-defined data structure, which holds its own data members and member\"\n",
    "\"functions, which can be accessed and used by creating an instance of that class.A class is like\"\n",
    "\"a blueprint for an object.\"\n",
    "#objects of python class\n",
    "\"An Object is an instance of a Class. A class is like a blueprint while an instance is a copy of\"\n",
    "\"the class with actual values\"\n",
    "#example:\n",
    "# create class\n",
    "class Bike:\n",
    "    name = \"\"\n",
    "    gear = 0\n",
    "# create objects of class\n",
    "bike1 = Bike()"
   ]
  },
  {
   "cell_type": "code",
   "execution_count": null,
   "id": "540d8a57-2f1e-47fd-ab29-1d4039588a8b",
   "metadata": {},
   "outputs": [],
   "source": [
    "#Q2\n",
    "\"The Four pillars of OOPs, abstraction, encapsulation, inheritance, and polymorphism\""
   ]
  },
  {
   "cell_type": "code",
   "execution_count": 1,
   "id": "d105d73b-526d-443e-8bd5-729608664cc5",
   "metadata": {},
   "outputs": [
    {
     "name": "stdout",
     "output_type": "stream",
     "text": [
      "I ran first\n",
      "I ran second\n",
      "Name: Audi R8\n"
     ]
    }
   ],
   "source": [
    "#Q3\n",
    "\" __init__ is a special python method that runs whenever a new object is created. These types of\" \n",
    "\"functions are used to initialize the attributes of that class\"\n",
    "#example:\n",
    "class Car:\n",
    "    def __init__(self, name):\n",
    "        self.name = name\n",
    "        print(\"I ran first\")\n",
    "    def product(self):\n",
    "        print(\"I ran second\")\n",
    "        return (\"Name: \" + self.name)\n",
    "C = Car('Audi R8')\n",
    "print(C.product())"
   ]
  },
  {
   "cell_type": "code",
   "execution_count": null,
   "id": "49dc5d2d-ae5c-455e-b400-f89807a7a57f",
   "metadata": {},
   "outputs": [],
   "source": [
    "#Q4\n",
    "\"The self is used to represent the instance of the class. With this keyword, you can access \n",
    "\"the attributes and methods of the class in python. It binds the attributes with the given\n",
    "\"arguments.\""
   ]
  },
  {
   "cell_type": "code",
   "execution_count": 7,
   "id": "446929cc-4c69-4eb2-9055-1ec49dfff795",
   "metadata": {},
   "outputs": [
    {
     "name": "stdout",
     "output_type": "stream",
     "text": [
      "Amazon is an Online Ecommerce Store\n",
      "Ebay is an Online Store\n",
      "OLX is an Online Buy Sell Store\n"
     ]
    },
    {
     "ename": "TypeError",
     "evalue": "can only concatenate str (not \"int\") to str",
     "output_type": "error",
     "traceback": [
      "\u001b[0;31m---------------------------------------------------------------------------\u001b[0m",
      "\u001b[0;31mTypeError\u001b[0m                                 Traceback (most recent call last)",
      "Cell \u001b[0;32mIn[7], line 33\u001b[0m\n\u001b[1;32m     31\u001b[0m     prod_3_popularity \u001b[38;5;241m=\u001b[39m \u001b[38;5;241m60\u001b[39m\n\u001b[1;32m     32\u001b[0m obj_1 \u001b[38;5;241m=\u001b[39m Popularity()\n\u001b[0;32m---> 33\u001b[0m \u001b[38;5;28mprint\u001b[39m(\u001b[43mobj_1\u001b[49m\u001b[38;5;241;43m.\u001b[39;49m\u001b[43mbrand_name_1\u001b[49m\u001b[38;5;241;43m+\u001b[39;49m\u001b[38;5;124;43m\"\u001b[39;49m\u001b[38;5;124;43m is an \u001b[39;49m\u001b[38;5;124;43m\"\u001b[39;49m\u001b[38;5;241;43m+\u001b[39;49m\u001b[43mobj_1\u001b[49m\u001b[38;5;241;43m.\u001b[39;49m\u001b[43mprod_1\u001b[49m\u001b[38;5;241;43m+\u001b[39;49m\u001b[38;5;124;43m\"\u001b[39;49m\u001b[38;5;124;43mof\u001b[39;49m\u001b[38;5;124;43m\"\u001b[39;49m\u001b[38;5;241;43m+\u001b[39;49m\u001b[43mobj_1\u001b[49m\u001b[38;5;241;43m.\u001b[39;49m\u001b[43mprod_1_popularity\u001b[49m)\n\u001b[1;32m     34\u001b[0m \u001b[38;5;28mprint\u001b[39m(obj_1\u001b[38;5;241m.\u001b[39mbrand_name_2\u001b[38;5;241m+\u001b[39m\u001b[38;5;124m\"\u001b[39m\u001b[38;5;124m is an \u001b[39m\u001b[38;5;124m\"\u001b[39m\u001b[38;5;241m+\u001b[39mobj_1\u001b[38;5;241m.\u001b[39mprod_2\u001b[38;5;241m+\u001b[39m\u001b[38;5;124m\"\u001b[39m\u001b[38;5;124mof\u001b[39m\u001b[38;5;124m\"\u001b[39m\u001b[38;5;241m+\u001b[39mobj_1\u001b[38;5;241m.\u001b[39mprod_2_popularity)\n\u001b[1;32m     35\u001b[0m \u001b[38;5;28mprint\u001b[39m(obj_1\u001b[38;5;241m.\u001b[39mbrand_name_3\u001b[38;5;241m+\u001b[39m\u001b[38;5;124m\"\u001b[39m\u001b[38;5;124m is an \u001b[39m\u001b[38;5;124m\"\u001b[39m\u001b[38;5;241m+\u001b[39mobj_1\u001b[38;5;241m.\u001b[39mprod_3\u001b[38;5;241m+\u001b[39m\u001b[38;5;124m\"\u001b[39m\u001b[38;5;124mof\u001b[39m\u001b[38;5;124m\"\u001b[39m\u001b[38;5;241m+\u001b[39mobj_1\u001b[38;5;241m.\u001b[39mprod_3_popularity)\n",
      "\u001b[0;31mTypeError\u001b[0m: can only concatenate str (not \"int\") to str"
     ]
    }
   ],
   "source": [
    "#Q5\n",
    "\"Inheritance in python programming is the concept of deriving a new class from an existing class.\"\n",
    "\"Using the concept of inheritance we can inherit the properties of the existing class to our new\"\n",
    "\"class The new derived class is called the child class and the existing class is called the\" \n",
    "\"parent class\"\n",
    "#single inheritance\n",
    "class Brands:              \n",
    "    brand_name_1 = \"Amazon\"\n",
    "    brand_name_2 = \"Ebay\"\n",
    "    brand_name_3 = \"OLX\"\n",
    "class Products(Brands): \n",
    "    prod_1 = \"Online Ecommerce Store\"\n",
    "    prod_2 = \"Online Store\"\n",
    "    prod_3 = \"Online Buy Sell Store\"\n",
    "obj_1 = Products()         \n",
    "print(obj_1.brand_name_1+\" is an \"+obj_1.prod_1)\n",
    "print(obj_1.brand_name_2+\" is an \"+obj_1.prod_2)\n",
    "print(obj_1.brand_name_3+\" is an \"+obj_1.prod_3)\n",
    "#multiple inheritance\n",
    "class Brands:           \n",
    "    brand_name_1 = \"Amazon\"\n",
    "    brand_name_2 = \"Ebay\"\n",
    "    brand_name_3 = \"OLX\"\n",
    "class Products:           \n",
    "    prod_1 = \"Online Ecommerce Store\"\n",
    "    prod_2 = \"Online Store\"\n",
    "    prod_3 = \"Online Buy Sell Store\"\n",
    "class Popularity(Brands,Products):\n",
    "    prod_1_popularity = 100\n",
    "    prod_2_popularity = 70\n",
    "    prod_3_popularity = 60\n",
    "obj_1 = Popularity()\n",
    "print(obj_1.brand_name_1+\" is an \"+obj_1.prod_1+\"of\"+str(obj_1.prod_1_popularity))\n",
    "print(obj_1.brand_name_2+\" is an \"+obj_1.prod_2+\"of\"+str(obj_1.prod_2_popularity))\n",
    "print(obj_1.brand_name_3+\" is an \"+obj_1.prod_3+\"of\"+str(obj_1.prod_3_popularity))"
   ]
  },
  {
   "cell_type": "code",
   "execution_count": null,
   "id": "56032968-9296-4a25-bb3d-8a91e3ed5652",
   "metadata": {},
   "outputs": [],
   "source": []
  }
 ],
 "metadata": {
  "kernelspec": {
   "display_name": "Python 3 (ipykernel)",
   "language": "python",
   "name": "python3"
  },
  "language_info": {
   "codemirror_mode": {
    "name": "ipython",
    "version": 3
   },
   "file_extension": ".py",
   "mimetype": "text/x-python",
   "name": "python",
   "nbconvert_exporter": "python",
   "pygments_lexer": "ipython3",
   "version": "3.10.8"
  }
 },
 "nbformat": 4,
 "nbformat_minor": 5
}
