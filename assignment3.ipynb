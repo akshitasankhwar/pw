{
 "cells": [
  {
   "cell_type": "code",
   "execution_count": 2,
   "id": "4e7bd7df-fd44-42fd-9a38-c72c618a9073",
   "metadata": {},
   "outputs": [
    {
     "data": {
      "text/plain": [
       "[1, 3, 5, 7, 9, 11, 13, 15, 17, 19, 21, 23]"
      ]
     },
     "execution_count": 2,
     "metadata": {},
     "output_type": "execute_result"
    }
   ],
   "source": [
    "#Q1\n",
    "\"\"\"def is used to create function\"\"\"\n",
    "def odd_num():\n",
    "    l=[]\n",
    "    for i in range(25):\n",
    "        if i%2!=0:\n",
    "            l.append(i)\n",
    "    return l\n",
    "odd_num()"
   ]
  },
  {
   "cell_type": "code",
   "execution_count": 4,
   "id": "9bae15d7-9316-4091-843e-447e4a57bcc3",
   "metadata": {},
   "outputs": [
    {
     "name": "stdout",
     "output_type": "stream",
     "text": [
      "134\n",
      "a app\n",
      "b ball\n",
      "c cat\n"
     ]
    }
   ],
   "source": [
    "#Q2\n",
    "\"*args allow us to pass variable number of non keyword argument to function\"\n",
    "\"*kargs allow us to pass variable number  of keyword agrgument to function\"\n",
    "#Example:\n",
    "#for *args\n",
    "def sum_no(*args):\n",
    "    sum=0\n",
    "    for i in args:\n",
    "        sum=sum+i\n",
    "    return sum\n",
    "print(sum_no(1,34,21,78))\n",
    "#For **kargs\n",
    "def dict(**kargs):\n",
    "    for key, value in kargs.items():\n",
    "        print(key,value)\n",
    "dict(a=\"app\", b=\"ball\", c=\"cat\")\n",
    "        "
   ]
  },
  {
   "cell_type": "code",
   "execution_count": 11,
   "id": "862d52e8-bf5a-4267-80af-25e0253858ee",
   "metadata": {},
   "outputs": [
    {
     "name": "stdout",
     "output_type": "stream",
     "text": [
      "2\n",
      "4\n",
      "6\n",
      "8\n",
      "10\n"
     ]
    }
   ],
   "source": [
    "#Q3\n",
    "\"An iterator in Python is an object that is used to iterate over iterable objects like lists, tuples, dicts, and sets.\"\n",
    "\" The Python iterators object is initialized using the iter() method. It uses the next() method for iteration\"\n",
    "l=[2, 4, 6, 8, 10, 12, 14, 16, 18, 20]\n",
    "itr=iter(l)\n",
    "print(next(itr))\n",
    "print(next(itr))\n",
    "print(next(itr))\n",
    "print(next(itr))\n",
    "print(next(itr))"
   ]
  },
  {
   "cell_type": "code",
   "execution_count": 18,
   "id": "4ed42363-6e6e-4718-8e7a-9093d3462cb1",
   "metadata": {},
   "outputs": [
    {
     "name": "stdout",
     "output_type": "stream",
     "text": [
      "1\n",
      "3\n",
      "5\n",
      "7\n",
      "9\n",
      "11\n",
      "13\n",
      "15\n",
      "17\n",
      "19\n",
      "21\n",
      "23\n",
      "25\n",
      "27\n",
      "29\n",
      "31\n",
      "33\n"
     ]
    }
   ],
   "source": [
    "#Q4\n",
    "\"In Python, similar to defining a normal function, we can define a generator function using the def keyword, but instead of the return statement we use the yield statement\"\n",
    "\"The yield statement returns a generator object to the one who calls the function which contains yield, instead of simply returning a value\"\n",
    "def odd(n):\n",
    "    for i in range(n):\n",
    "        if i%2!=0:\n",
    "            yield i\n",
    "for i in odd(34):\n",
    "    print(i)\n",
    "    \n"
   ]
  },
  {
   "cell_type": "code",
   "execution_count": 4,
   "id": "fcd2b948-e6b2-400f-8cf9-5daf0012b3a7",
   "metadata": {},
   "outputs": [
    {
     "name": "stdin",
     "output_type": "stream",
     "text": [
      "enter the number 6\n"
     ]
    },
    {
     "name": "stdout",
     "output_type": "stream",
     "text": [
      "fibonacci series:011235"
     ]
    }
   ],
   "source": [
    "#Q5\n",
    "#fibonacci series\n",
    "n=int(input(\"enter the number\"))\n",
    "b=0\n",
    "c=1\n",
    "sum=b+c\n",
    "count=1\n",
    "print(\"fibonacci series:\",end='')\n",
    "while (count<=n):\n",
    "    count+=1\n",
    "    print( b, end='')\n",
    "    b=c\n",
    "    c=sum\n",
    "    sum=b+c"
   ]
  },
  {
   "cell_type": "code",
   "execution_count": 6,
   "id": "63d19d4c-150b-439b-b463-b441eb19f75c",
   "metadata": {},
   "outputs": [
    {
     "name": "stdin",
     "output_type": "stream",
     "text": [
      "Enter any number: 676\n"
     ]
    },
    {
     "name": "stdout",
     "output_type": "stream",
     "text": [
      "The number is palindrome! 676\n"
     ]
    }
   ],
   "source": [
    "#Q8\n",
    "num=int(input(\"Enter any number:\"))\n",
    "temp=num\n",
    "rev=0\n",
    "while(num>0):\n",
    "    dig=num%10\n",
    "    rev=rev*10+dig\n",
    "    num=num//10\n",
    "if(temp==rev):\n",
    "    print(\"The number is palindrome!\",temp)\n",
    "else:\n",
    "    print(\"Not a palindrome!\")"
   ]
  },
  {
   "cell_type": "code",
   "execution_count": 8,
   "id": "d3d80ea6-7ad6-4ae0-b152-80df4701075a",
   "metadata": {},
   "outputs": [
    {
     "name": "stdout",
     "output_type": "stream",
     "text": [
      "['p', 'w', 's', 'k', 'i', 'l', 'l', 's']\n"
     ]
    }
   ],
   "source": [
    "#Q7\n",
    "List = [character for character in 'pwskills']\n",
    "print(List)"
   ]
  },
  {
   "cell_type": "code",
   "execution_count": 10,
   "id": "d2e4192b-76aa-438d-b570-3c701bee46ec",
   "metadata": {},
   "outputs": [
    {
     "name": "stdout",
     "output_type": "stream",
     "text": [
      "[1, 3, 5, 7, 9, 11, 13, 15, 17, 19, 21, 23, 25, 27, 29, 31, 33, 35, 37, 39, 41, 43, 45, 47, 49, 51, 53, 55, 57, 59, 61, 63, 65, 67, 69, 71, 73, 75, 77, 79, 81, 83, 85, 87, 89, 91, 93, 95, 97, 99]\n"
     ]
    }
   ],
   "source": [
    "#Q9\n",
    "lis = [num for num in range(101)\n",
    "       if num % 2!=0]\n",
    "print(lis)"
   ]
  },
  {
   "cell_type": "code",
   "execution_count": null,
   "id": "b0ca5381-dcdb-4885-901e-13fa85166812",
   "metadata": {},
   "outputs": [],
   "source": [
    "#Q5\n",
    "from math import sqrt\n",
    "\n",
    "def is_prime(n):\n",
    "    if (n <= 1):\n",
    "        return False\n",
    "    if (n == 2):\n",
    "        return True\n",
    "    if (n % 2 == 0):\n",
    "        return False\n",
    "\n",
    "    i = 3\n",
    "    while i <= sqrt(n):\n",
    "        if n % i == 0:\n",
    "            return False\n",
    "        i = i + 2\n",
    "\n",
    "    return True\n",
    "def prime_generator():\n",
    "    n = 1\n",
    "    while True:\n",
    "        n += 1\n",
    "        if is_prime(n):\n",
    "            yield n\n",
    "generator = prime_generator()\n",
    "\n",
    "for i in range(20):\n",
    "    print(next(generator))"
   ]
  }
 ],
 "metadata": {
  "kernelspec": {
   "display_name": "Python 3 (ipykernel)",
   "language": "python",
   "name": "python3"
  },
  "language_info": {
   "codemirror_mode": {
    "name": "ipython",
    "version": 3
   },
   "file_extension": ".py",
   "mimetype": "text/x-python",
   "name": "python",
   "nbconvert_exporter": "python",
   "pygments_lexer": "ipython3",
   "version": "3.10.8"
  }
 },
 "nbformat": 4,
 "nbformat_minor": 5
}
